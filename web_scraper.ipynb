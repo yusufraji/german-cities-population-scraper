{
 "metadata": {
  "language_info": {
   "codemirror_mode": {
    "name": "ipython",
    "version": 3
   },
   "file_extension": ".py",
   "mimetype": "text/x-python",
   "name": "python",
   "nbconvert_exporter": "python",
   "pygments_lexer": "ipython3",
   "version": "3.8.1-final"
  },
  "orig_nbformat": 2,
  "kernelspec": {
   "name": "Python 3.8.1 64-bit ('venv')",
   "display_name": "Python 3.8.1 64-bit ('venv')",
   "metadata": {
    "interpreter": {
     "hash": "e75f301e988644a2025cb27625d77953a1cee3a6ce72b8ab8ce80d0fd3314688"
    }
   }
  }
 },
 "nbformat": 4,
 "nbformat_minor": 2,
 "cells": [
  {
   "source": [
    "# Web Scraping for German cities and respective population"
   ],
   "cell_type": "markdown",
   "metadata": {}
  },
  {
   "cell_type": "code",
   "execution_count": 57,
   "metadata": {},
   "outputs": [],
   "source": [
    "import requests\n",
    "import numpy as np\n",
    "import pandas as pd\n",
    "from tqdm import tqdm_notebook\n",
    "from bs4 import BeautifulSoup"
   ]
  },
  {
   "cell_type": "code",
   "execution_count": 58,
   "metadata": {},
   "outputs": [],
   "source": [
    "def extract_info(table):\n",
    "    census_data = {'city': [], 'status': [], 'adm': [], 'population': []}\n",
    "    for row in tqdm(table.find_all('tr', attrs={'itemscope':''})):\n",
    "        try:\n",
    "            census_data['city'].append(row.find('td', attrs={'class':'rname'}).text)\n",
    "            census_data['status'].append(row.find('td', attrs={'class':'rstatus'}).text)\n",
    "            census_data['adm'].append(row.find('td', attrs={'class':'radm'}).text)\n",
    "            census_data['population'].append(row.find('td', attrs={'class':'rpop prio1'}).text)\n",
    "\n",
    "        except:\n",
    "            census_data['city'].append(np.nan)\n",
    "            census_data['status'].append(np.nan)\n",
    "            census_data['adm'].append(np.nan)\n",
    "            census_data['population'].append(np.nan)\n",
    "\n",
    "    census_data_df = pd.DataFrame(census_data, columns=['city', 'status', 'adm', 'population'])\n",
    "\n",
    "    return census_data_df"
   ]
  },
  {
   "cell_type": "code",
   "execution_count": 59,
   "metadata": {
    "tags": []
   },
   "outputs": [],
   "source": [
    "# results = {'city': [], 'Adm': [], 'population': []}\n",
    "url = 'https://www.citypopulation.de/en/germany/cities/'\n",
    "content = requests.get(url)\n",
    "soup = BeautifulSoup(content.text, 'html.parser')\n",
    "results = extract_info(soup.find(id='ts'))"
   ]
  },
  {
   "cell_type": "code",
   "execution_count": 60,
   "metadata": {},
   "outputs": [
    {
     "output_type": "stream",
     "name": "stdout",
     "text": [
      "<class 'pandas.core.frame.DataFrame'>\nRangeIndex: 192 entries, 0 to 191\nData columns (total 4 columns):\n #   Column      Non-Null Count  Dtype \n---  ------      --------------  ----- \n 0   city        191 non-null    object\n 1   status      191 non-null    object\n 2   adm         191 non-null    object\n 3   population  191 non-null    object\ndtypes: object(4)\nmemory usage: 6.1+ KB\n"
     ]
    }
   ],
   "source": [
    "results.info()"
   ]
  },
  {
   "cell_type": "code",
   "execution_count": 61,
   "metadata": {},
   "outputs": [
    {
     "output_type": "execute_result",
     "data": {
      "text/plain": [
       "                       city status  adm population\n",
       "0                       NaN    NaN  NaN        NaN\n",
       "1  Aachen [Aix-la-Chapelle]   City   NW    248,960\n",
       "2                     Aalen   City   BW     68,393\n",
       "3                     Ahlen   City   NW     52,503\n",
       "4                  Arnsberg   City   NW     73,456"
      ],
      "text/html": "<div>\n<style scoped>\n    .dataframe tbody tr th:only-of-type {\n        vertical-align: middle;\n    }\n\n    .dataframe tbody tr th {\n        vertical-align: top;\n    }\n\n    .dataframe thead th {\n        text-align: right;\n    }\n</style>\n<table border=\"1\" class=\"dataframe\">\n  <thead>\n    <tr style=\"text-align: right;\">\n      <th></th>\n      <th>city</th>\n      <th>status</th>\n      <th>adm</th>\n      <th>population</th>\n    </tr>\n  </thead>\n  <tbody>\n    <tr>\n      <th>0</th>\n      <td>NaN</td>\n      <td>NaN</td>\n      <td>NaN</td>\n      <td>NaN</td>\n    </tr>\n    <tr>\n      <th>1</th>\n      <td>Aachen [Aix-la-Chapelle]</td>\n      <td>City</td>\n      <td>NW</td>\n      <td>248,960</td>\n    </tr>\n    <tr>\n      <th>2</th>\n      <td>Aalen</td>\n      <td>City</td>\n      <td>BW</td>\n      <td>68,393</td>\n    </tr>\n    <tr>\n      <th>3</th>\n      <td>Ahlen</td>\n      <td>City</td>\n      <td>NW</td>\n      <td>52,503</td>\n    </tr>\n    <tr>\n      <th>4</th>\n      <td>Arnsberg</td>\n      <td>City</td>\n      <td>NW</td>\n      <td>73,456</td>\n    </tr>\n  </tbody>\n</table>\n</div>"
     },
     "metadata": {},
     "execution_count": 61
    }
   ],
   "source": [
    "results.head()"
   ]
  },
  {
   "cell_type": "code",
   "execution_count": 62,
   "metadata": {},
   "outputs": [
    {
     "output_type": "execute_result",
     "data": {
      "text/plain": [
       "                         city  status adm population\n",
       "0    Aachen [Aix-la-Chapelle]    City  NW    248,960\n",
       "1                       Aalen    City  BW     68,393\n",
       "2                       Ahlen    City  NW     52,503\n",
       "3                    Arnsberg    City  NW     73,456\n",
       "4               Aschaffenburg  CityCR  BY     71,002\n",
       "..                        ...     ...  ..        ...\n",
       "186                 Wolfsburg  CityCR  NI    124,371\n",
       "187                     Worms  CityCR  RP     83,542\n",
       "188                 Wuppertal  CityCR  NW    355,100\n",
       "189                  Würzburg  CityCR  BY    127,934\n",
       "190                   Zwickau    City  SN     88,690\n",
       "\n",
       "[191 rows x 4 columns]"
      ],
      "text/html": "<div>\n<style scoped>\n    .dataframe tbody tr th:only-of-type {\n        vertical-align: middle;\n    }\n\n    .dataframe tbody tr th {\n        vertical-align: top;\n    }\n\n    .dataframe thead th {\n        text-align: right;\n    }\n</style>\n<table border=\"1\" class=\"dataframe\">\n  <thead>\n    <tr style=\"text-align: right;\">\n      <th></th>\n      <th>city</th>\n      <th>status</th>\n      <th>adm</th>\n      <th>population</th>\n    </tr>\n  </thead>\n  <tbody>\n    <tr>\n      <th>0</th>\n      <td>Aachen [Aix-la-Chapelle]</td>\n      <td>City</td>\n      <td>NW</td>\n      <td>248,960</td>\n    </tr>\n    <tr>\n      <th>1</th>\n      <td>Aalen</td>\n      <td>City</td>\n      <td>BW</td>\n      <td>68,393</td>\n    </tr>\n    <tr>\n      <th>2</th>\n      <td>Ahlen</td>\n      <td>City</td>\n      <td>NW</td>\n      <td>52,503</td>\n    </tr>\n    <tr>\n      <th>3</th>\n      <td>Arnsberg</td>\n      <td>City</td>\n      <td>NW</td>\n      <td>73,456</td>\n    </tr>\n    <tr>\n      <th>4</th>\n      <td>Aschaffenburg</td>\n      <td>CityCR</td>\n      <td>BY</td>\n      <td>71,002</td>\n    </tr>\n    <tr>\n      <th>...</th>\n      <td>...</td>\n      <td>...</td>\n      <td>...</td>\n      <td>...</td>\n    </tr>\n    <tr>\n      <th>186</th>\n      <td>Wolfsburg</td>\n      <td>CityCR</td>\n      <td>NI</td>\n      <td>124,371</td>\n    </tr>\n    <tr>\n      <th>187</th>\n      <td>Worms</td>\n      <td>CityCR</td>\n      <td>RP</td>\n      <td>83,542</td>\n    </tr>\n    <tr>\n      <th>188</th>\n      <td>Wuppertal</td>\n      <td>CityCR</td>\n      <td>NW</td>\n      <td>355,100</td>\n    </tr>\n    <tr>\n      <th>189</th>\n      <td>Würzburg</td>\n      <td>CityCR</td>\n      <td>BY</td>\n      <td>127,934</td>\n    </tr>\n    <tr>\n      <th>190</th>\n      <td>Zwickau</td>\n      <td>City</td>\n      <td>SN</td>\n      <td>88,690</td>\n    </tr>\n  </tbody>\n</table>\n<p>191 rows × 4 columns</p>\n</div>"
     },
     "metadata": {},
     "execution_count": 62
    }
   ],
   "source": [
    "results.dropna(inplace=True)\n",
    "results.reset_index(drop=True, inplace=True)\n",
    "results"
   ]
  },
  {
   "cell_type": "code",
   "execution_count": 64,
   "metadata": {},
   "outputs": [],
   "source": [
    "results.to_csv('cities_and_population.csv', index=False)"
   ]
  }
 ]
}